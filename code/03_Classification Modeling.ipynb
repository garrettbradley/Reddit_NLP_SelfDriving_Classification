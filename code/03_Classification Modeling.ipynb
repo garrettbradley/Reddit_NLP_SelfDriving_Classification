{
 "cells": [
  {
   "cell_type": "markdown",
   "metadata": {},
   "source": [
    "## 03_Classification Modeling & Sentiment Analysis"
   ]
  },
  {
   "cell_type": "markdown",
   "metadata": {},
   "source": [
    "This Notebook reads in data scraped from three subreddits that was preprocessed and concatenated to form datasets for classification modeling.  Three classfication models are tested on subreddit Submissions, and two models tested on subreddit comments.  The notebook also contains plots of Sentiment Analysis for each of the subreddit groups, and finally a summary of findings with conclusions."
   ]
  },
  {
   "cell_type": "markdown",
   "metadata": {},
   "source": [
    "### Contents\n",
    "- [Import Packages](#Import-Packages)\n",
    "- [Read in Data](#Read-in-Data)\n",
    "- [Baseline Proportions](#Get-Baseline-Class-Proportions)\n",
    "- [Modeling](#Modeling)\n",
    "    - [Model 1: Logistic Regression](#Model-1:-Logistic-Regression)\n",
    "    - [Model 1b: Tfidf Vectorizer - Logistic Regression](#Model-1b:-Tfidf-Vectorizer---Logistic-Regression)\n",
    "    - [Model 1c: CV Logistic Regression - Expand Parameters](#Model-1c:-CV-Logistic-Regression---Expand-Parameters)\n",
    "    - [Model 1d: Logistic Regression on Comments ](#Model-1d:-Logistic-Regression-on-Comments)\n",
    "    - [Support Vector Machine](#Support-Vector-Machine)\n",
    "    - [Support Vector Machine on Comments](#Support-Vector-Machine-on-Comments)\n",
    "    - [Random Forest](#Random-Forest)\n",
    "- [Sentiment Analysis Plots](#Sentiment-Analysis-Plots)\n",
    "- [Summary-and-Conclusions](#Summary-and-Conclusions)"
   ]
  },
  {
   "cell_type": "markdown",
   "metadata": {},
   "source": [
    "## Import Packages"
   ]
  },
  {
   "cell_type": "code",
   "execution_count": 5,
   "metadata": {},
   "outputs": [],
   "source": [
    "import pandas as pd\n",
    "import numpy as np\n",
    "import seaborn as sns\n",
    "import matplotlib.pyplot as plt\n",
    "import re\n",
    "\n",
    "\n",
    "from nltk.tokenize import RegexpTokenizer\n",
    "from nltk import WordNetLemmatizer\n",
    "from nltk.stem import PorterStemmer\n",
    "from nltk.sentiment.vader import SentimentIntensityAnalyzer\n",
    "from afinn import Afinn\n",
    "\n",
    "from sklearn.preprocessing import StandardScaler\n",
    "from sklearn.feature_extraction.text import CountVectorizer, TfidfVectorizer\n",
    "from sklearn.model_selection import train_test_split, cross_val_score, GridSearchCV\n",
    "from sklearn.pipeline import Pipeline\n",
    "from sklearn.linear_model import LogisticRegression\n",
    "from sklearn.neighbors import KNeighborsClassifier\n",
    "from sklearn.ensemble import RandomForestClassifier\n",
    "from sklearn.metrics import accuracy_score\n",
    "from sklearn.svm import SVC\n",
    "\n",
    "from sklearn.metrics import confusion_matrix\n",
    "from sklearn.metrics import accuracy_score\n",
    "\n",
    "import warnings\n",
    "warnings.simplefilter(action='ignore', category=FutureWarning)\n",
    "\n",
    "%matplotlib inline"
   ]
  },
  {
   "cell_type": "markdown",
   "metadata": {},
   "source": [
    "### Read in Data"
   ]
  },
  {
   "cell_type": "code",
   "execution_count": 6,
   "metadata": {},
   "outputs": [],
   "source": [
    "sdc_fut_sub = pd.read_csv('./datasets/selfdrive_fut_sub.csv', index_col=[0], na_filter = False)\n",
    "sdc_fut_com = pd.read_csv('./datasets/selfdrive_fut_com.csv', index_col=[0], na_filter = False)\n",
    "sdc_tech_sub = pd.read_csv('./datasets/selfdrive_tech_sub.csv', index_col=[0], na_filter = False)\n",
    "sdc_tech_com = pd.read_csv('./datasets/selfdrive_tech_sub.csv', index_col=[0], na_filter = False)\n",
    "\n",
    "srch_sub = pd.read_csv('./datasets/search_sub.csv', index_col=[0], na_filter = False)\n",
    "srch_com = pd.read_csv('./datasets/search_com.csv', index_col=[0], na_filter = False)\n",
    " "
   ]
  },
  {
   "cell_type": "code",
   "execution_count": 12,
   "metadata": {},
   "outputs": [
    {
     "data": {
      "text/html": [
       "<div>\n",
       "<style scoped>\n",
       "    .dataframe tbody tr th:only-of-type {\n",
       "        vertical-align: middle;\n",
       "    }\n",
       "\n",
       "    .dataframe tbody tr th {\n",
       "        vertical-align: top;\n",
       "    }\n",
       "\n",
       "    .dataframe thead th {\n",
       "        text-align: right;\n",
       "    }\n",
       "</style>\n",
       "<table border=\"1\" class=\"dataframe\">\n",
       "  <thead>\n",
       "    <tr style=\"text-align: right;\">\n",
       "      <th></th>\n",
       "      <th>author</th>\n",
       "      <th>id</th>\n",
       "      <th>title</th>\n",
       "      <th>subreddit</th>\n",
       "      <th>target</th>\n",
       "      <th>tokens</th>\n",
       "      <th>lemma</th>\n",
       "      <th>stems</th>\n",
       "      <th>sent_score</th>\n",
       "    </tr>\n",
       "  </thead>\n",
       "  <tbody>\n",
       "    <tr>\n",
       "      <td>0</td>\n",
       "      <td>aibits</td>\n",
       "      <td>did2fk</td>\n",
       "      <td>Keen to develop self-driving cars, Hyundai Mot...</td>\n",
       "      <td>selfdrivingcars</td>\n",
       "      <td>1</td>\n",
       "      <td>['Keen', 'to', 'develop', 'self', 'driving', '...</td>\n",
       "      <td>Keen to develop self driving car Hyundai Motor...</td>\n",
       "      <td>keen to develop self drive car hyundai motor g...</td>\n",
       "      <td>1.0</td>\n",
       "    </tr>\n",
       "    <tr>\n",
       "      <td>1</td>\n",
       "      <td>tamu</td>\n",
       "      <td>dia5o0</td>\n",
       "      <td>Texas A&amp;amp;M Lands $ Million Federal Grant To...</td>\n",
       "      <td>selfdrivingcars</td>\n",
       "      <td>1</td>\n",
       "      <td>['Texas', 'A', 'amp', 'M', 'Lands', 'Million',...</td>\n",
       "      <td>Texas A amp M Lands Million Federal Grant To S...</td>\n",
       "      <td>texa A amp M land million feder grant To studi...</td>\n",
       "      <td>1.0</td>\n",
       "    </tr>\n",
       "    <tr>\n",
       "      <td>2</td>\n",
       "      <td>aibits</td>\n",
       "      <td>di9aub</td>\n",
       "      <td>Welcome to the  DriveML Huawei Autonomous Vehi...</td>\n",
       "      <td>selfdrivingcars</td>\n",
       "      <td>1</td>\n",
       "      <td>['Welcome', 'to', 'the', 'DriveML', 'Huawei', ...</td>\n",
       "      <td>Welcome to the DriveML Huawei Autonomous Vehic...</td>\n",
       "      <td>welcom to the driveml huawei autonom vehicl ch...</td>\n",
       "      <td>1.0</td>\n",
       "    </tr>\n",
       "    <tr>\n",
       "      <td>3</td>\n",
       "      <td>Avenue21</td>\n",
       "      <td>di8zvp</td>\n",
       "      <td>There is a puzzle picturing a driverless Paris...</td>\n",
       "      <td>selfdrivingcars</td>\n",
       "      <td>1</td>\n",
       "      <td>['There', 'is', 'a', 'puzzle', 'picturing', 'a...</td>\n",
       "      <td>There is a puzzle picturing a driverless Paris...</td>\n",
       "      <td>there is a puzzl pictur a driverless pari now</td>\n",
       "      <td>0.0</td>\n",
       "    </tr>\n",
       "    <tr>\n",
       "      <td>4</td>\n",
       "      <td>aibits</td>\n",
       "      <td>di3hc7</td>\n",
       "      <td>Top  self-driving trucks in the world</td>\n",
       "      <td>selfdrivingcars</td>\n",
       "      <td>1</td>\n",
       "      <td>['Top', 'self', 'driving', 'trucks', 'in', 'th...</td>\n",
       "      <td>Top self driving truck in the world</td>\n",
       "      <td>top self drive truck in the world</td>\n",
       "      <td>2.0</td>\n",
       "    </tr>\n",
       "  </tbody>\n",
       "</table>\n",
       "</div>"
      ],
      "text/plain": [
       "     author      id                                              title  \\\n",
       "0    aibits  did2fk  Keen to develop self-driving cars, Hyundai Mot...   \n",
       "1      tamu  dia5o0  Texas A&amp;M Lands $ Million Federal Grant To...   \n",
       "2    aibits  di9aub  Welcome to the  DriveML Huawei Autonomous Vehi...   \n",
       "3  Avenue21  di8zvp  There is a puzzle picturing a driverless Paris...   \n",
       "4    aibits  di3hc7              Top  self-driving trucks in the world   \n",
       "\n",
       "         subreddit  target                                             tokens  \\\n",
       "0  selfdrivingcars       1  ['Keen', 'to', 'develop', 'self', 'driving', '...   \n",
       "1  selfdrivingcars       1  ['Texas', 'A', 'amp', 'M', 'Lands', 'Million',...   \n",
       "2  selfdrivingcars       1  ['Welcome', 'to', 'the', 'DriveML', 'Huawei', ...   \n",
       "3  selfdrivingcars       1  ['There', 'is', 'a', 'puzzle', 'picturing', 'a...   \n",
       "4  selfdrivingcars       1  ['Top', 'self', 'driving', 'trucks', 'in', 'th...   \n",
       "\n",
       "                                               lemma  \\\n",
       "0  Keen to develop self driving car Hyundai Motor...   \n",
       "1  Texas A amp M Lands Million Federal Grant To S...   \n",
       "2  Welcome to the DriveML Huawei Autonomous Vehic...   \n",
       "3  There is a puzzle picturing a driverless Paris...   \n",
       "4                Top self driving truck in the world   \n",
       "\n",
       "                                               stems  sent_score  \n",
       "0  keen to develop self drive car hyundai motor g...         1.0  \n",
       "1  texa A amp M land million feder grant To studi...         1.0  \n",
       "2  welcom to the driveml huawei autonom vehicl ch...         1.0  \n",
       "3      there is a puzzl pictur a driverless pari now         0.0  \n",
       "4                  top self drive truck in the world         2.0  "
      ]
     },
     "execution_count": 12,
     "metadata": {},
     "output_type": "execute_result"
    }
   ],
   "source": [
    "sdc_fut_sub.head()"
   ]
  },
  {
   "cell_type": "markdown",
   "metadata": {},
   "source": [
    "### Get Baseline Class Proportions"
   ]
  },
  {
   "cell_type": "code",
   "execution_count": 13,
   "metadata": {},
   "outputs": [],
   "source": [
    "# Check value count proportions for y"
   ]
  },
  {
   "cell_type": "code",
   "execution_count": 14,
   "metadata": {},
   "outputs": [
    {
     "data": {
      "text/plain": [
       "1    0.507266\n",
       "0    0.492734\n",
       "Name: target, dtype: float64"
      ]
     },
     "execution_count": 14,
     "metadata": {},
     "output_type": "execute_result"
    }
   ],
   "source": [
    "sdc_fut_sub['target'].value_counts(normalize=True)"
   ]
  },
  {
   "cell_type": "code",
   "execution_count": 15,
   "metadata": {},
   "outputs": [
    {
     "data": {
      "text/plain": [
       "1    0.519389\n",
       "0    0.480611\n",
       "Name: target, dtype: float64"
      ]
     },
     "execution_count": 15,
     "metadata": {},
     "output_type": "execute_result"
    }
   ],
   "source": [
    "sdc_fut_com['target'].value_counts(normalize=True)"
   ]
  },
  {
   "cell_type": "code",
   "execution_count": 16,
   "metadata": {},
   "outputs": [
    {
     "data": {
      "text/plain": [
       "1    0.510234\n",
       "0    0.489766\n",
       "Name: target, dtype: float64"
      ]
     },
     "execution_count": 16,
     "metadata": {},
     "output_type": "execute_result"
    }
   ],
   "source": [
    "sdc_tech_sub['target'].value_counts(normalize=True)"
   ]
  },
  {
   "cell_type": "code",
   "execution_count": 17,
   "metadata": {},
   "outputs": [
    {
     "data": {
      "text/plain": [
       "1    0.510234\n",
       "0    0.489766\n",
       "Name: target, dtype: float64"
      ]
     },
     "execution_count": 17,
     "metadata": {},
     "output_type": "execute_result"
    }
   ],
   "source": [
    "sdc_tech_com['target'].value_counts(normalize=True)"
   ]
  },
  {
   "cell_type": "markdown",
   "metadata": {},
   "source": [
    "All classes are well balanced because we pulled the same number from both subreddits.  The small discrepancies are due removal of duplicates."
   ]
  },
  {
   "cell_type": "markdown",
   "metadata": {},
   "source": [
    "## Modeling"
   ]
  },
  {
   "cell_type": "markdown",
   "metadata": {},
   "source": [
    "### Train Test Split"
   ]
  },
  {
   "cell_type": "code",
   "execution_count": 18,
   "metadata": {},
   "outputs": [],
   "source": [
    "# Define X and y, Split Training and Testing Data\n",
    "\n",
    "X = sdc_fut_sub['lemma']\n",
    "y = sdc_fut_sub['target']\n",
    "\n",
    "X_train, X_test, y_train, y_test = train_test_split(X, y, random_state = 88)"
   ]
  },
  {
   "cell_type": "code",
   "execution_count": null,
   "metadata": {},
   "outputs": [],
   "source": [
    "X2.head()"
   ]
  },
  {
   "cell_type": "code",
   "execution_count": 19,
   "metadata": {},
   "outputs": [],
   "source": [
    "X2 = sdc_fut_com['lemma']\n",
    "y2 = sdc_fut_com['target']\n",
    "\n",
    "X2_train, X2_test, y2_train, y2_test = train_test_split(X2, y2, random_state = 88)"
   ]
  },
  {
   "cell_type": "markdown",
   "metadata": {},
   "source": [
    "### Setup Model Pipeline and Parameters"
   ]
  },
  {
   "cell_type": "code",
   "execution_count": 75,
   "metadata": {},
   "outputs": [],
   "source": [
    "# Standard Scaler Pipes with Countvectorizer and Logistic Regression\n",
    "\n",
    "pipe_cv_sc = Pipeline([\n",
    "    ('cv', CountVectorizer()),\n",
    "    ('sc', StandardScaler()),\n",
    "    ('logreg', LogisticRegression())])\n",
    "\n",
    "\n",
    "pipe_tf_sc = Pipeline([\n",
    "    ('tf', TfidfVectorizer()),\n",
    "    ('sc', StandardScaler()),\n",
    "    ('logreg', LogisticRegression())])\n"
   ]
  },
  {
   "cell_type": "code",
   "execution_count": null,
   "metadata": {},
   "outputs": [],
   "source": []
  },
  {
   "cell_type": "code",
   "execution_count": 76,
   "metadata": {},
   "outputs": [],
   "source": [
    "#  Parameter grid for Countvectorizer, Tfidf Vectorizer, and Logistic Regression\n",
    "\n",
    "cv_params_sc = {'cv__stop_words': ['english', None], \n",
    "            'cv__ngram_range': [(1, 1), (1, 2), (1,3)], \n",
    "            'cv__max_features': [1000, 2000, 3000],\n",
    "            'sc__with_mean': [False],\n",
    "            'logreg__penalty': ['l1', 'l2'], \n",
    "            'logreg__C': [0.01, 0.1, 1, 10],\n",
    "            'logreg__max_iter': [1000]}\n",
    "\n",
    "tf_params_sc = {'tf__stop_words': ['english', None], \n",
    "            'tf__ngram_range': [(1, 1), (1, 2), (1, 3)],\n",
    "            'tf__max_features': [1000, 2000, 3000],\n",
    "            'sc__with_mean': [False],\n",
    "            'logreg__penalty': ['l1', 'l2'], \n",
    "            'logreg__C': [0.01, 0.1, 1, 10]}"
   ]
  },
  {
   "cell_type": "markdown",
   "metadata": {},
   "source": [
    "### Model 1: Logistic Regression"
   ]
  },
  {
   "cell_type": "code",
   "execution_count": 77,
   "metadata": {},
   "outputs": [],
   "source": [
    "# Instantiate GridSearch object using above pipeline and parameter grid\n",
    "\n",
    "lr_cv_sc_grid = GridSearchCV(pipe_cv_sc, cv_params_sc, cv=3, verbose=1)\n",
    "\n",
    "lr_tf_sc_grid = GridSearchCV(pipe_tf_sc, tf_params_sc, cv=3, verbose=1)"
   ]
  },
  {
   "cell_type": "code",
   "execution_count": 33,
   "metadata": {},
   "outputs": [
    {
     "name": "stdout",
     "output_type": "stream",
     "text": [
      "Fitting 3 folds for each of 144 candidates, totalling 432 fits\n"
     ]
    },
    {
     "name": "stderr",
     "output_type": "stream",
     "text": [
      "[Parallel(n_jobs=1)]: Using backend SequentialBackend with 1 concurrent workers.\n",
      "[Parallel(n_jobs=1)]: Done 432 out of 432 | elapsed:  2.0min finished\n"
     ]
    },
    {
     "data": {
      "text/plain": [
       "GridSearchCV(cv=3, error_score='raise-deprecating',\n",
       "             estimator=Pipeline(memory=None,\n",
       "                                steps=[('cv',\n",
       "                                        CountVectorizer(analyzer='word',\n",
       "                                                        binary=False,\n",
       "                                                        decode_error='strict',\n",
       "                                                        dtype=<class 'numpy.int64'>,\n",
       "                                                        encoding='utf-8',\n",
       "                                                        input='content',\n",
       "                                                        lowercase=True,\n",
       "                                                        max_df=1.0,\n",
       "                                                        max_features=None,\n",
       "                                                        min_df=1,\n",
       "                                                        ngram_range=(1, 1),\n",
       "                                                        preprocessor=None,\n",
       "                                                        stop_words=None,\n",
       "                                                        strip_accents=None,\n",
       "                                                        token...\n",
       "                                                           verbose=0,\n",
       "                                                           warm_start=False))],\n",
       "                                verbose=False),\n",
       "             iid='warn', n_jobs=None,\n",
       "             param_grid={'cv__max_features': [1000, 2000, 3000],\n",
       "                         'cv__ngram_range': [(1, 1), (1, 2), (1, 3)],\n",
       "                         'cv__stop_words': ['english', None],\n",
       "                         'logreg__C': [0.01, 0.1, 1, 10],\n",
       "                         'logreg__penalty': ['l1', 'l2'],\n",
       "                         'sc__with_mean': [False]},\n",
       "             pre_dispatch='2*n_jobs', refit=True, return_train_score=False,\n",
       "             scoring=None, verbose=1)"
      ]
     },
     "execution_count": 33,
     "metadata": {},
     "output_type": "execute_result"
    }
   ],
   "source": [
    "# Fit the grid search object to the training data\n",
    "\n",
    "lr_cv_sc_grid.fit(X_train, y_train)"
   ]
  },
  {
   "cell_type": "code",
   "execution_count": 35,
   "metadata": {},
   "outputs": [
    {
     "name": "stdout",
     "output_type": "stream",
     "text": [
      "X Grid Best Score: 0.9004243281471004\n",
      "X Train Score: 0.958981612446959\n",
      "X Test score: 0.8918116249469665\n"
     ]
    }
   ],
   "source": [
    "# Print Scores\n",
    "\n",
    "print(f'X Grid Best Score: {lr_cv_sc_grid.best_score_}')\n",
    "print(f'X Train Score: {lr_cv_sc_grid.score(X_train, y_train)}')\n",
    "print(f'X Test score: {lr_cv_sc_grid.score(X_test, y_test)}')"
   ]
  },
  {
   "cell_type": "markdown",
   "metadata": {},
   "source": [
    "Logistic Regression with Count Vectorizer performed fairley well with 89% accuracy but was rather overfit with a training score of 6 percentage points higher than test score."
   ]
  },
  {
   "cell_type": "code",
   "execution_count": 36,
   "metadata": {},
   "outputs": [
    {
     "data": {
      "text/plain": [
       "{'cv__max_features': 2000,\n",
       " 'cv__ngram_range': (1, 1),\n",
       " 'cv__stop_words': None,\n",
       " 'logreg__C': 0.1,\n",
       " 'logreg__penalty': 'l1',\n",
       " 'sc__with_mean': False}"
      ]
     },
     "execution_count": 36,
     "metadata": {},
     "output_type": "execute_result"
    }
   ],
   "source": [
    "# Get best Parameters\n",
    "\n",
    "lr_cv_sc_grid.best_params_"
   ]
  },
  {
   "cell_type": "code",
   "execution_count": 37,
   "metadata": {},
   "outputs": [],
   "source": [
    "# Get coefficients\n",
    "\n",
    "log_reg_coef = lr_cv_sc_grid.best_estimator_.named_steps['logreg'].coef_"
   ]
  },
  {
   "cell_type": "code",
   "execution_count": 38,
   "metadata": {},
   "outputs": [
    {
     "data": {
      "text/plain": [
       "2000"
      ]
     },
     "execution_count": 38,
     "metadata": {},
     "output_type": "execute_result"
    }
   ],
   "source": [
    "len(log_reg_coef[0])"
   ]
  },
  {
   "cell_type": "code",
   "execution_count": 39,
   "metadata": {},
   "outputs": [],
   "source": [
    "# Get Feature names\n",
    "\n",
    "feats = lr_cv_sc_grid.best_estimator_.named_steps['cv'].get_feature_names()"
   ]
  },
  {
   "cell_type": "code",
   "execution_count": 41,
   "metadata": {},
   "outputs": [],
   "source": [
    "# Put Features Names and Coefficients in Dataframe\n",
    "\n",
    "feats_df = pd.DataFrame(log_reg_coef[0], feats)\n",
    "feats_df = feats_df.reset_index()\n",
    "feats_df.columns = ['features', 'coefs']"
   ]
  },
  {
   "cell_type": "code",
   "execution_count": 183,
   "metadata": {},
   "outputs": [],
   "source": [
    "# Sort Features by low 10 and top 10\n",
    "\n",
    "low_feats = feats_df.sort_values('coefs').head(10)\n",
    "high_feats = feats_df.sort_values('coefs', ascending=False).head(10)"
   ]
  },
  {
   "cell_type": "code",
   "execution_count": 187,
   "metadata": {},
   "outputs": [
    {
     "data": {
      "text/html": [
       "<div>\n",
       "<style scoped>\n",
       "    .dataframe tbody tr th:only-of-type {\n",
       "        vertical-align: middle;\n",
       "    }\n",
       "\n",
       "    .dataframe tbody tr th {\n",
       "        vertical-align: top;\n",
       "    }\n",
       "\n",
       "    .dataframe thead th {\n",
       "        text-align: right;\n",
       "    }\n",
       "</style>\n",
       "<table border=\"1\" class=\"dataframe\">\n",
       "  <thead>\n",
       "    <tr style=\"text-align: right;\">\n",
       "      <th></th>\n",
       "      <th>features</th>\n",
       "      <th>coefs</th>\n",
       "    </tr>\n",
       "  </thead>\n",
       "  <tbody>\n",
       "    <tr>\n",
       "      <td>1930</td>\n",
       "      <td>waymo</td>\n",
       "      <td>0.974556</td>\n",
       "    </tr>\n",
       "    <tr>\n",
       "      <td>528</td>\n",
       "      <td>driving</td>\n",
       "      <td>0.789985</td>\n",
       "    </tr>\n",
       "    <tr>\n",
       "      <td>272</td>\n",
       "      <td>car</td>\n",
       "      <td>0.671106</td>\n",
       "    </tr>\n",
       "    <tr>\n",
       "      <td>144</td>\n",
       "      <td>autonomous</td>\n",
       "      <td>0.665519</td>\n",
       "    </tr>\n",
       "    <tr>\n",
       "      <td>146</td>\n",
       "      <td>autopilot</td>\n",
       "      <td>0.578761</td>\n",
       "    </tr>\n",
       "    <tr>\n",
       "      <td>1750</td>\n",
       "      <td>tesla</td>\n",
       "      <td>0.556826</td>\n",
       "    </tr>\n",
       "    <tr>\n",
       "      <td>1015</td>\n",
       "      <td>lidar</td>\n",
       "      <td>0.469925</td>\n",
       "    </tr>\n",
       "    <tr>\n",
       "      <td>526</td>\n",
       "      <td>driverless</td>\n",
       "      <td>0.430110</td>\n",
       "    </tr>\n",
       "    <tr>\n",
       "      <td>413</td>\n",
       "      <td>cruise</td>\n",
       "      <td>0.392330</td>\n",
       "    </tr>\n",
       "    <tr>\n",
       "      <td>1557</td>\n",
       "      <td>sdc</td>\n",
       "      <td>0.391822</td>\n",
       "    </tr>\n",
       "  </tbody>\n",
       "</table>\n",
       "</div>"
      ],
      "text/plain": [
       "        features     coefs\n",
       "1930       waymo  0.974556\n",
       "528      driving  0.789985\n",
       "272          car  0.671106\n",
       "144   autonomous  0.665519\n",
       "146    autopilot  0.578761\n",
       "1750       tesla  0.556826\n",
       "1015       lidar  0.469925\n",
       "526   driverless  0.430110\n",
       "413       cruise  0.392330\n",
       "1557         sdc  0.391822"
      ]
     },
     "execution_count": 187,
     "metadata": {},
     "output_type": "execute_result"
    }
   ],
   "source": [
    "high_feats"
   ]
  },
  {
   "cell_type": "code",
   "execution_count": 188,
   "metadata": {},
   "outputs": [
    {
     "data": {
      "text/html": [
       "<div>\n",
       "<style scoped>\n",
       "    .dataframe tbody tr th:only-of-type {\n",
       "        vertical-align: middle;\n",
       "    }\n",
       "\n",
       "    .dataframe tbody tr th {\n",
       "        vertical-align: top;\n",
       "    }\n",
       "\n",
       "    .dataframe thead th {\n",
       "        text-align: right;\n",
       "    }\n",
       "</style>\n",
       "<table border=\"1\" class=\"dataframe\">\n",
       "  <thead>\n",
       "    <tr style=\"text-align: right;\">\n",
       "      <th></th>\n",
       "      <th>features</th>\n",
       "      <th>coefs</th>\n",
       "    </tr>\n",
       "  </thead>\n",
       "  <tbody>\n",
       "    <tr>\n",
       "      <td>1638</td>\n",
       "      <td>solar</td>\n",
       "      <td>-0.314605</td>\n",
       "    </tr>\n",
       "    <tr>\n",
       "      <td>576</td>\n",
       "      <td>energy</td>\n",
       "      <td>-0.308775</td>\n",
       "    </tr>\n",
       "    <tr>\n",
       "      <td>329</td>\n",
       "      <td>climate</td>\n",
       "      <td>-0.287304</td>\n",
       "    </tr>\n",
       "    <tr>\n",
       "      <td>880</td>\n",
       "      <td>income</td>\n",
       "      <td>-0.273740</td>\n",
       "    </tr>\n",
       "    <tr>\n",
       "      <td>1410</td>\n",
       "      <td>quite</td>\n",
       "      <td>-0.267260</td>\n",
       "    </tr>\n",
       "    <tr>\n",
       "      <td>1650</td>\n",
       "      <td>space</td>\n",
       "      <td>-0.243045</td>\n",
       "    </tr>\n",
       "    <tr>\n",
       "      <td>44</td>\n",
       "      <td>ai</td>\n",
       "      <td>-0.231158</td>\n",
       "    </tr>\n",
       "    <tr>\n",
       "      <td>1206</td>\n",
       "      <td>of</td>\n",
       "      <td>-0.223896</td>\n",
       "    </tr>\n",
       "    <tr>\n",
       "      <td>1789</td>\n",
       "      <td>to</td>\n",
       "      <td>-0.221488</td>\n",
       "    </tr>\n",
       "    <tr>\n",
       "      <td>690</td>\n",
       "      <td>flight</td>\n",
       "      <td>-0.220618</td>\n",
       "    </tr>\n",
       "  </tbody>\n",
       "</table>\n",
       "</div>"
      ],
      "text/plain": [
       "     features     coefs\n",
       "1638    solar -0.314605\n",
       "576    energy -0.308775\n",
       "329   climate -0.287304\n",
       "880    income -0.273740\n",
       "1410    quite -0.267260\n",
       "1650    space -0.243045\n",
       "44         ai -0.231158\n",
       "1206       of -0.223896\n",
       "1789       to -0.221488\n",
       "690    flight -0.220618"
      ]
     },
     "execution_count": 188,
     "metadata": {},
     "output_type": "execute_result"
    }
   ],
   "source": [
    "low_feats"
   ]
  },
  {
   "cell_type": "code",
   "execution_count": 43,
   "metadata": {},
   "outputs": [],
   "source": [
    "# Create predictions data frame\n",
    "\n",
    "preds_df = pd.DataFrame(index=X_test.index)\n",
    "preds_df['log_cv_pred'] = lr_cv_sc_grid.predict(X_test)"
   ]
  },
  {
   "cell_type": "code",
   "execution_count": 46,
   "metadata": {},
   "outputs": [
    {
     "data": {
      "text/html": [
       "<div>\n",
       "<style scoped>\n",
       "    .dataframe tbody tr th:only-of-type {\n",
       "        vertical-align: middle;\n",
       "    }\n",
       "\n",
       "    .dataframe tbody tr th {\n",
       "        vertical-align: top;\n",
       "    }\n",
       "\n",
       "    .dataframe thead th {\n",
       "        text-align: right;\n",
       "    }\n",
       "</style>\n",
       "<table border=\"1\" class=\"dataframe\">\n",
       "  <thead>\n",
       "    <tr style=\"text-align: right;\">\n",
       "      <th></th>\n",
       "      <th>log_cv_pred</th>\n",
       "    </tr>\n",
       "  </thead>\n",
       "  <tbody>\n",
       "    <tr>\n",
       "      <td>886</td>\n",
       "      <td>0</td>\n",
       "    </tr>\n",
       "    <tr>\n",
       "      <td>558</td>\n",
       "      <td>1</td>\n",
       "    </tr>\n",
       "    <tr>\n",
       "      <td>255</td>\n",
       "      <td>0</td>\n",
       "    </tr>\n",
       "    <tr>\n",
       "      <td>979</td>\n",
       "      <td>0</td>\n",
       "    </tr>\n",
       "    <tr>\n",
       "      <td>17</td>\n",
       "      <td>0</td>\n",
       "    </tr>\n",
       "  </tbody>\n",
       "</table>\n",
       "</div>"
      ],
      "text/plain": [
       "     log_cv_pred\n",
       "886            0\n",
       "558            1\n",
       "255            0\n",
       "979            0\n",
       "17             0"
      ]
     },
     "execution_count": 46,
     "metadata": {},
     "output_type": "execute_result"
    }
   ],
   "source": [
    "preds_df.head()"
   ]
  },
  {
   "cell_type": "code",
   "execution_count": 100,
   "metadata": {},
   "outputs": [],
   "source": [
    "#pred = cv_grid.predict(X_test)\n",
    "#test['Survived'] = pred"
   ]
  },
  {
   "cell_type": "code",
   "execution_count": 47,
   "metadata": {},
   "outputs": [],
   "source": [
    "# Add X_test to Predictions dataframe\n",
    "\n",
    "preds_df['X_test'] = X_test\n",
    "\n",
    "# Rename X_test to original name; lemma\n",
    "\n",
    "preds_df.rename(columns = {'X_test': 'lemma'}, inplace=True)"
   ]
  },
  {
   "cell_type": "code",
   "execution_count": 48,
   "metadata": {},
   "outputs": [
    {
     "data": {
      "text/html": [
       "<div>\n",
       "<style scoped>\n",
       "    .dataframe tbody tr th:only-of-type {\n",
       "        vertical-align: middle;\n",
       "    }\n",
       "\n",
       "    .dataframe tbody tr th {\n",
       "        vertical-align: top;\n",
       "    }\n",
       "\n",
       "    .dataframe thead th {\n",
       "        text-align: right;\n",
       "    }\n",
       "</style>\n",
       "<table border=\"1\" class=\"dataframe\">\n",
       "  <thead>\n",
       "    <tr style=\"text-align: right;\">\n",
       "      <th></th>\n",
       "      <th>log_cv_pred</th>\n",
       "      <th>lemma</th>\n",
       "    </tr>\n",
       "  </thead>\n",
       "  <tbody>\n",
       "    <tr>\n",
       "      <td>886</td>\n",
       "      <td>0</td>\n",
       "      <td>Top Automotive Companies to Watch at CEBIT</td>\n",
       "    </tr>\n",
       "    <tr>\n",
       "      <td>558</td>\n",
       "      <td>1</td>\n",
       "      <td>Autonomous vehicle tech firm Aurora gear up fo...</td>\n",
       "    </tr>\n",
       "    <tr>\n",
       "      <td>255</td>\n",
       "      <td>0</td>\n",
       "      <td>How Photos of Your Kids Are Powering Surveilla...</td>\n",
       "    </tr>\n",
       "    <tr>\n",
       "      <td>979</td>\n",
       "      <td>0</td>\n",
       "      <td>China increasingly challenge American dominanc...</td>\n",
       "    </tr>\n",
       "    <tr>\n",
       "      <td>17</td>\n",
       "      <td>0</td>\n",
       "      <td>The future of factory made bread can be tasty</td>\n",
       "    </tr>\n",
       "  </tbody>\n",
       "</table>\n",
       "</div>"
      ],
      "text/plain": [
       "     log_cv_pred                                              lemma\n",
       "886            0         Top Automotive Companies to Watch at CEBIT\n",
       "558            1  Autonomous vehicle tech firm Aurora gear up fo...\n",
       "255            0  How Photos of Your Kids Are Powering Surveilla...\n",
       "979            0  China increasingly challenge American dominanc...\n",
       "17             0      The future of factory made bread can be tasty"
      ]
     },
     "execution_count": 48,
     "metadata": {},
     "output_type": "execute_result"
    }
   ],
   "source": [
    "preds_df.head()"
   ]
  },
  {
   "cell_type": "code",
   "execution_count": 49,
   "metadata": {},
   "outputs": [],
   "source": [
    "# Create new dataframe with merge of predictions and original Selfdrivingcars + futurology Submissions\n",
    "\n",
    "sdc_fut_sub_pred = pd.merge(preds_df, sdc_fut_sub, on='lemma')"
   ]
  },
  {
   "cell_type": "code",
   "execution_count": 50,
   "metadata": {},
   "outputs": [],
   "source": [
    "# Define Misclassifed Submissions\n",
    "\n",
    "misclassed = sdc_fut_sub_pred.loc[sdc_fut_sub_pred['log_cv_pred'] != sdc_fut_sub_pred['target'], :]"
   ]
  },
  {
   "cell_type": "code",
   "execution_count": 51,
   "metadata": {},
   "outputs": [
    {
     "data": {
      "text/plain": [
       "114"
      ]
     },
     "execution_count": 51,
     "metadata": {},
     "output_type": "execute_result"
    }
   ],
   "source": [
    "# Get count of false positives\n",
    "\n",
    "fp = misclassed[misclassed['log_cv_pred'] == 1]\n",
    "len(fp)"
   ]
  },
  {
   "cell_type": "code",
   "execution_count": 52,
   "metadata": {},
   "outputs": [
    {
     "data": {
      "text/plain": [
       "142"
      ]
     },
     "execution_count": 52,
     "metadata": {},
     "output_type": "execute_result"
    }
   ],
   "source": [
    "# Get count of false negatives\n",
    "\n",
    "fn = misclassed[misclassed['log_cv_pred'] == 0]\n",
    "len(fn)"
   ]
  },
  {
   "cell_type": "code",
   "execution_count": 53,
   "metadata": {},
   "outputs": [
    {
     "data": {
      "text/plain": [
       "256"
      ]
     },
     "execution_count": 53,
     "metadata": {},
     "output_type": "execute_result"
    }
   ],
   "source": [
    "# Get total count of misclassified posts\n",
    "\n",
    "misclassed.shape[0]"
   ]
  },
  {
   "cell_type": "code",
   "execution_count": 54,
   "metadata": {},
   "outputs": [
    {
     "data": {
      "text/plain": [
       "2372"
      ]
     },
     "execution_count": 54,
     "metadata": {},
     "output_type": "execute_result"
    }
   ],
   "source": [
    "# Get count of total rows intest data\n",
    "\n",
    "sdc_fut_sub_pred.shape[0]"
   ]
  },
  {
   "cell_type": "code",
   "execution_count": 56,
   "metadata": {},
   "outputs": [],
   "source": [
    "# Define y_true and y_predicte\n",
    "\n",
    "y_true = sdc_fut_sub_pred['target']\n",
    "y_pred = sdc_fut_sub_pred['log_cv_pred']"
   ]
  },
  {
   "cell_type": "code",
   "execution_count": 57,
   "metadata": {},
   "outputs": [
    {
     "data": {
      "text/plain": [
       "array([[1088,  114],\n",
       "       [ 142, 1028]])"
      ]
     },
     "execution_count": 57,
     "metadata": {},
     "output_type": "execute_result"
    }
   ],
   "source": [
    "# Create Confusion Matrix\n",
    "\n",
    "cm = confusion_matrix(y_true, y_pred)\n",
    "cm"
   ]
  },
  {
   "cell_type": "markdown",
   "metadata": {},
   "source": [
    "### Model 1b: Tfidf Vectorizer - Logistic Regression"
   ]
  },
  {
   "cell_type": "code",
   "execution_count": 58,
   "metadata": {},
   "outputs": [
    {
     "name": "stdout",
     "output_type": "stream",
     "text": [
      "Fitting 3 folds for each of 144 candidates, totalling 432 fits\n"
     ]
    },
    {
     "name": "stderr",
     "output_type": "stream",
     "text": [
      "[Parallel(n_jobs=1)]: Using backend SequentialBackend with 1 concurrent workers.\n",
      "[Parallel(n_jobs=1)]: Done 432 out of 432 | elapsed:  2.2min finished\n"
     ]
    },
    {
     "data": {
      "text/plain": [
       "GridSearchCV(cv=3, error_score='raise-deprecating',\n",
       "             estimator=Pipeline(memory=None,\n",
       "                                steps=[('tf',\n",
       "                                        TfidfVectorizer(analyzer='word',\n",
       "                                                        binary=False,\n",
       "                                                        decode_error='strict',\n",
       "                                                        dtype=<class 'numpy.float64'>,\n",
       "                                                        encoding='utf-8',\n",
       "                                                        input='content',\n",
       "                                                        lowercase=True,\n",
       "                                                        max_df=1.0,\n",
       "                                                        max_features=None,\n",
       "                                                        min_df=1,\n",
       "                                                        ngram_range=(1, 1),\n",
       "                                                        norm='l2',\n",
       "                                                        preprocessor=None,\n",
       "                                                        smooth_idf=True,\n",
       "                                                        stop_words=N...\n",
       "                                                           verbose=0,\n",
       "                                                           warm_start=False))],\n",
       "                                verbose=False),\n",
       "             iid='warn', n_jobs=None,\n",
       "             param_grid={'logreg__C': [0.01, 0.1, 1, 10],\n",
       "                         'logreg__penalty': ['l1', 'l2'],\n",
       "                         'sc__with_mean': [False],\n",
       "                         'tf__max_features': [1000, 2000, 3000],\n",
       "                         'tf__ngram_range': [(1, 1), (1, 2), (1, 3)],\n",
       "                         'tf__stop_words': ['english', None]},\n",
       "             pre_dispatch='2*n_jobs', refit=True, return_train_score=False,\n",
       "             scoring=None, verbose=1)"
      ]
     },
     "execution_count": 58,
     "metadata": {},
     "output_type": "execute_result"
    }
   ],
   "source": [
    "# Fit the Tfidf grid object to Training data\n",
    "\n",
    "lr_tf_sc_grid.fit(X_train, y_train)"
   ]
  },
  {
   "cell_type": "code",
   "execution_count": 59,
   "metadata": {},
   "outputs": [
    {
     "name": "stdout",
     "output_type": "stream",
     "text": [
      "LogReg tf Grid Best Score: 0.9016973125884017\n",
      "LogReg tf Train Score: 0.9768033946251768\n",
      "Logreg tf Test score: 0.8926601612218923\n"
     ]
    }
   ],
   "source": [
    "print(f'LogReg tf Grid Best Score: {lr_tf_sc_grid.best_score_}')\n",
    "print(f'LogReg tf Train Score: {lr_tf_sc_grid.score(X_train, y_train)}')\n",
    "print(f'Logreg tf Test score: {lr_tf_sc_grid.score(X_test, y_test)}')"
   ]
  },
  {
   "cell_type": "markdown",
   "metadata": {},
   "source": [
    "Logist Regression with Tfidf Vectorizer performed roughly the same as Count Vectorizer, except that it was even more overfit than Cvec, with the training score of 8 percentage points higher than the test score.  With this knowlege, we will select the CountVectorizer model as the better, more generalizeable model."
   ]
  },
  {
   "cell_type": "code",
   "execution_count": 61,
   "metadata": {},
   "outputs": [
    {
     "data": {
      "text/plain": [
       "{'logreg__C': 0.1,\n",
       " 'logreg__penalty': 'l1',\n",
       " 'sc__with_mean': False,\n",
       " 'tf__max_features': 3000,\n",
       " 'tf__ngram_range': (1, 3),\n",
       " 'tf__stop_words': 'english'}"
      ]
     },
     "execution_count": 61,
     "metadata": {},
     "output_type": "execute_result"
    }
   ],
   "source": [
    "lr_tf_sc_grid.best_params_"
   ]
  },
  {
   "cell_type": "markdown",
   "metadata": {},
   "source": [
    "### Model 1c: CV Logistic Regression - Expand Parameters"
   ]
  },
  {
   "cell_type": "code",
   "execution_count": 66,
   "metadata": {},
   "outputs": [],
   "source": [
    "# New Parameter grid with additional max features\n",
    "\n",
    "pipe2_cv_sc = Pipeline([\n",
    "    ('cv', CountVectorizer()),\n",
    "    ('sc', StandardScaler()),\n",
    "    ('logreg', LogisticRegression())])\n",
    "\n",
    "\n",
    "lr_cv_params_2 = {'cv__stop_words': ['english', None], \n",
    "            'cv__ngram_range': [(1, 1), (1, 2), (1,3)], \n",
    "            'cv__max_features': [5000, 10000, 15000, 20000],\n",
    "            'sc__with_mean': [False],\n",
    "            'logreg__penalty': ['l1', 'l2'], \n",
    "            'logreg__C': [0.01, 0.1, 1, 10]}\n",
    "\n",
    "lr_tf_params_2 = {'tf__stop_words': ['english', None], \n",
    "            'tf__ngram_range': [(1, 1), (1, 2)],\n",
    "            'tf__max_features': [1000, 2000, 3000],\n",
    "            'logreg__penalty': ['l1', 'l2'], \n",
    "            'logreg__C': [0.01, 0.1, 1, 10]}"
   ]
  },
  {
   "cell_type": "code",
   "execution_count": 67,
   "metadata": {},
   "outputs": [],
   "source": [
    "# Instantiate New GridSearch object using new parameters\n",
    "\n",
    "lr_cv_sc_grid_2 = GridSearchCV(pipe2_cv_sc, lr_cv_params_2, cv=3, verbose=1)\n",
    "\n",
    "#lr_tf_sc_grid = GridSearchCV(pipe_tf_sc, tf_params_sc, cv=3, verbose=1)"
   ]
  },
  {
   "cell_type": "code",
   "execution_count": 68,
   "metadata": {},
   "outputs": [
    {
     "name": "stdout",
     "output_type": "stream",
     "text": [
      "Fitting 3 folds for each of 192 candidates, totalling 576 fits\n"
     ]
    },
    {
     "name": "stderr",
     "output_type": "stream",
     "text": [
      "[Parallel(n_jobs=1)]: Using backend SequentialBackend with 1 concurrent workers.\n",
      "[Parallel(n_jobs=1)]: Done 576 out of 576 | elapsed:  2.9min finished\n"
     ]
    },
    {
     "data": {
      "text/plain": [
       "GridSearchCV(cv=3, error_score='raise-deprecating',\n",
       "             estimator=Pipeline(memory=None,\n",
       "                                steps=[('cv',\n",
       "                                        CountVectorizer(analyzer='word',\n",
       "                                                        binary=False,\n",
       "                                                        decode_error='strict',\n",
       "                                                        dtype=<class 'numpy.int64'>,\n",
       "                                                        encoding='utf-8',\n",
       "                                                        input='content',\n",
       "                                                        lowercase=True,\n",
       "                                                        max_df=1.0,\n",
       "                                                        max_features=None,\n",
       "                                                        min_df=1,\n",
       "                                                        ngram_range=(1, 1),\n",
       "                                                        preprocessor=None,\n",
       "                                                        stop_words=None,\n",
       "                                                        strip_accents=None,\n",
       "                                                        token...\n",
       "                                                           warm_start=False))],\n",
       "                                verbose=False),\n",
       "             iid='warn', n_jobs=None,\n",
       "             param_grid={'cv__max_features': [5000, 10000, 15000, 20000],\n",
       "                         'cv__ngram_range': [(1, 1), (1, 2), (1, 3)],\n",
       "                         'cv__stop_words': ['english', None],\n",
       "                         'logreg__C': [0.01, 0.1, 1, 10],\n",
       "                         'logreg__penalty': ['l1', 'l2'],\n",
       "                         'sc__with_mean': [False]},\n",
       "             pre_dispatch='2*n_jobs', refit=True, return_train_score=False,\n",
       "             scoring=None, verbose=1)"
      ]
     },
     "execution_count": 68,
     "metadata": {},
     "output_type": "execute_result"
    }
   ],
   "source": [
    "lr_cv_sc_grid_2.fit(X_train, y_train)"
   ]
  },
  {
   "cell_type": "code",
   "execution_count": 70,
   "metadata": {},
   "outputs": [
    {
     "name": "stdout",
     "output_type": "stream",
     "text": [
      "LogReg cv Grid 2 Best Score: 0.9025459688826025\n",
      "LogReg cv Train 2 Score: 0.9821782178217822\n",
      "Logreg cv Test 2 score: 0.9028425965210013\n"
     ]
    }
   ],
   "source": [
    "print(f'LogReg cv Grid 2 Best Score: {lr_cv_sc_grid_2.best_score_}')\n",
    "print(f'LogReg cv Train 2 Score: {lr_cv_sc_grid_2.score(X_train, y_train)}')\n",
    "print(f'Logreg cv Test 2 score: {lr_cv_sc_grid_2.score(X_test, y_test)}')"
   ]
  },
  {
   "cell_type": "code",
   "execution_count": 72,
   "metadata": {},
   "outputs": [
    {
     "data": {
      "text/plain": [
       "{'cv__max_features': 5000,\n",
       " 'cv__ngram_range': (1, 2),\n",
       " 'cv__stop_words': None,\n",
       " 'logreg__C': 0.1,\n",
       " 'logreg__penalty': 'l1',\n",
       " 'sc__with_mean': False}"
      ]
     },
     "execution_count": 72,
     "metadata": {},
     "output_type": "execute_result"
    }
   ],
   "source": [
    "lr_cv_sc_grid_2.best_params_"
   ]
  },
  {
   "cell_type": "markdown",
   "metadata": {},
   "source": [
    "The Logistic Regression Model accuracy improved only slightly, by 1 percentage point, by increasing the max features. Max features were tested up to 20,000, and yet the best parameter selected was 5000 features, just over double the number of features of the initial model.  This indicates that increasing the number of features up to 20,000 did not provide a more accurate model, and doubling the features from 2000 to 5000 only provided a 1 percentage point increase."
   ]
  },
  {
   "cell_type": "markdown",
   "metadata": {},
   "source": [
    "### Model 1d: Logistic Regression on Comments "
   ]
  },
  {
   "cell_type": "code",
   "execution_count": 3,
   "metadata": {},
   "outputs": [],
   "source": [
    "# Test Initial Logistic Regression model on Comments from r/selfdrivingcars and r/futurology\n",
    "\n",
    "#lr_cv_sc_grid.fit(X2_train, y2_train)"
   ]
  },
  {
   "cell_type": "markdown",
   "metadata": {},
   "source": [
    "Model solver could not converge when analyzing the comments in Selfdrivingcars and Futurology. Change the solver parameter to test again."
   ]
  },
  {
   "cell_type": "code",
   "execution_count": 80,
   "metadata": {},
   "outputs": [],
   "source": [
    "pipe_cv_sc = Pipeline([\n",
    "    ('cv', CountVectorizer()),\n",
    "    ('sc', StandardScaler()),\n",
    "    ('logreg', LogisticRegression())])\n",
    "\n",
    "\n",
    "pipe_tf_sc = Pipeline([\n",
    "    ('tf', TfidfVectorizer()),\n",
    "    ('sc', StandardScaler()),\n",
    "    ('logreg', LogisticRegression())])\n"
   ]
  },
  {
   "cell_type": "code",
   "execution_count": 121,
   "metadata": {},
   "outputs": [],
   "source": [
    "cv_params = {'cv__stop_words': ['english', None], \n",
    "            'cv__ngram_range': [(1, 1), (1, 2), (1,3)], \n",
    "            'cv__max_features': [1000, 2000, 3000],\n",
    "            'logreg__penalty': ['l1','l2'], \n",
    "            'logreg__C': [0.01, 0.1, 1, 10],  \n",
    "            }\n",
    "\n",
    "tf_params_sc = {'tf__stop_words': ['english', None], \n",
    "            'tf__ngram_range': [(1, 1), (1, 2), (1, 3)],\n",
    "            'tf__max_features': [1000, 2000, 3000],\n",
    "            'sc__with_mean': [False],\n",
    "            'logreg__penalty': ['l1', 'l2'], \n",
    "            'logreg__C': [0.01, 0.1, 1, 10],\n",
    "            'logreg__max_iter': [1000],}"
   ]
  },
  {
   "cell_type": "code",
   "execution_count": 122,
   "metadata": {},
   "outputs": [],
   "source": [
    "pipe_cv = Pipeline([\n",
    "    ('cv', CountVectorizer()),\n",
    "    ('logreg', LogisticRegression())])\n",
    "\n",
    "\n",
    "pipe_tf = Pipeline([\n",
    "    ('tf', TfidfVectorizer()),\n",
    "    ('logreg', LogisticRegression())])\n"
   ]
  },
  {
   "cell_type": "code",
   "execution_count": null,
   "metadata": {},
   "outputs": [],
   "source": [
    "# Logreg solvers: ‘newton-cg’, ‘lbfgs’, ‘liblinear’, ‘sag’, ‘saga’"
   ]
  },
  {
   "cell_type": "markdown",
   "metadata": {},
   "source": [
    "Logistic Regression Model Solver still could not converge when testing all available solvers on Comments text data"
   ]
  },
  {
   "cell_type": "code",
   "execution_count": null,
   "metadata": {},
   "outputs": [],
   "source": [
    "# Test Logistic Regression on Comments without Scaling "
   ]
  },
  {
   "cell_type": "code",
   "execution_count": 123,
   "metadata": {},
   "outputs": [],
   "source": [
    "lr_cv_grid = GridSearchCV(pipe_cv, cv_params, cv=3, verbose=1)"
   ]
  },
  {
   "cell_type": "code",
   "execution_count": 124,
   "metadata": {},
   "outputs": [
    {
     "name": "stdout",
     "output_type": "stream",
     "text": [
      "Fitting 3 folds for each of 144 candidates, totalling 432 fits\n"
     ]
    },
    {
     "name": "stderr",
     "output_type": "stream",
     "text": [
      "[Parallel(n_jobs=1)]: Using backend SequentialBackend with 1 concurrent workers.\n",
      "[Parallel(n_jobs=1)]: Done 432 out of 432 | elapsed:  6.1min finished\n"
     ]
    },
    {
     "data": {
      "text/plain": [
       "GridSearchCV(cv=3, error_score='raise-deprecating',\n",
       "             estimator=Pipeline(memory=None,\n",
       "                                steps=[('cv',\n",
       "                                        CountVectorizer(analyzer='word',\n",
       "                                                        binary=False,\n",
       "                                                        decode_error='strict',\n",
       "                                                        dtype=<class 'numpy.int64'>,\n",
       "                                                        encoding='utf-8',\n",
       "                                                        input='content',\n",
       "                                                        lowercase=True,\n",
       "                                                        max_df=1.0,\n",
       "                                                        max_features=None,\n",
       "                                                        min_df=1,\n",
       "                                                        ngram_range=(1, 1),\n",
       "                                                        preprocessor=None,\n",
       "                                                        stop_words=None,\n",
       "                                                        strip_accents=None,\n",
       "                                                        token...\n",
       "                                                           solver='warn',\n",
       "                                                           tol=0.0001,\n",
       "                                                           verbose=0,\n",
       "                                                           warm_start=False))],\n",
       "                                verbose=False),\n",
       "             iid='warn', n_jobs=None,\n",
       "             param_grid={'cv__max_features': [1000, 2000, 3000],\n",
       "                         'cv__ngram_range': [(1, 1), (1, 2), (1, 3)],\n",
       "                         'cv__stop_words': ['english', None],\n",
       "                         'logreg__C': [0.01, 0.1, 1, 10],\n",
       "                         'logreg__penalty': ['l1', 'l2']},\n",
       "             pre_dispatch='2*n_jobs', refit=True, return_train_score=False,\n",
       "             scoring=None, verbose=1)"
      ]
     },
     "execution_count": 124,
     "metadata": {},
     "output_type": "execute_result"
    }
   ],
   "source": [
    "# Fit Model 1 Logistic Regression on Comments data without Scaling\n",
    "\n",
    "lr_cv_grid.fit(X2_train, y2_train)"
   ]
  },
  {
   "cell_type": "code",
   "execution_count": 125,
   "metadata": {},
   "outputs": [
    {
     "name": "stdout",
     "output_type": "stream",
     "text": [
      "LogReg Non-Scale cv Grid Best Score: 0.8253477588871716\n",
      "LogReg Non-Scale cv Train Score: 0.9341014472390052\n",
      "Logreg Non-Scale cv Test score: 0.8297513695743785\n"
     ]
    }
   ],
   "source": [
    "print(f'LogReg Non-Scale cv Grid Best Score: {lr_cv_grid.best_score_}')\n",
    "print(f'LogReg Non-Scale cv Train Score: {lr_cv_grid.score(X2_train, y2_train)}')\n",
    "print(f'Logreg Non-Scale cv Test score: {lr_cv_grid.score(X2_test, y2_test)}')"
   ]
  },
  {
   "cell_type": "markdown",
   "metadata": {},
   "source": [
    "Finally Logistic Regression solver was able to converge on the Comments data without scaling.  We saw earlier it was not able to converge after scaling the data.  \n",
    "\n",
    "We see that the test score acuracy is 83%, about six percentage points below the Logistic Regression model for Selfdrivingcars Submissions and the model is overfit with a similar marging to the models on Submission data."
   ]
  },
  {
   "cell_type": "code",
   "execution_count": 126,
   "metadata": {},
   "outputs": [
    {
     "data": {
      "text/plain": [
       "{'cv__max_features': 3000,\n",
       " 'cv__ngram_range': (1, 1),\n",
       " 'cv__stop_words': 'english',\n",
       " 'logreg__C': 1,\n",
       " 'logreg__penalty': 'l2'}"
      ]
     },
     "execution_count": 126,
     "metadata": {},
     "output_type": "execute_result"
    }
   ],
   "source": [
    "lr_cv_grid.best_params_"
   ]
  },
  {
   "cell_type": "markdown",
   "metadata": {},
   "source": [
    "We also see that the Logistic Regression model (without scaling) for Comments has different best parameters than the initial model for Submissions. "
   ]
  },
  {
   "cell_type": "markdown",
   "metadata": {},
   "source": [
    "### Support Vector Machine"
   ]
  },
  {
   "cell_type": "code",
   "execution_count": 154,
   "metadata": {},
   "outputs": [],
   "source": [
    "# Instantiate New Pipelines for Support Vector Machine\n",
    "\n",
    "pipe_cv_svc = Pipeline([\n",
    "    ('cv', CountVectorizer()),\n",
    "    ('svc', SVC())])\n",
    "\n",
    "pipe_tf_svc = Pipeline([\n",
    "    ('tf', TfidfVectorizer()),\n",
    "    ('svc', SVC())])"
   ]
  },
  {
   "cell_type": "code",
   "execution_count": 128,
   "metadata": {},
   "outputs": [],
   "source": [
    "# SVC Kernels: ‘linear’, ‘poly’, ‘rbf’, ‘sigmoid"
   ]
  },
  {
   "cell_type": "code",
   "execution_count": 155,
   "metadata": {},
   "outputs": [],
   "source": [
    "# Initial Params used\n",
    "\n",
    "svc_cv_params = {'cv__stop_words': ['english', None], \n",
    "            'cv__ngram_range': [(1, 1), (1, 2), (1,3)], \n",
    "            'cv__max_features': [1000, 2000, 3000],\n",
    "            'svc__C': [0.01, 0.1, 1, 10], \n",
    "            'svc__kernel': ['rbf'],\n",
    "            'svc__gamma': ['scale']}\n",
    "\n",
    "svc_tf_params = {'tf__stop_words': ['english', None], \n",
    "            'tf__ngram_range': [(1, 1), (1, 2), (1, 3)],\n",
    "            'tf__max_features': [1000, 2000, 3000],\n",
    "            'svc__C': [0.01, 0.1, 1, 10], \n",
    "            'svc__kernel': ['rbf'],\n",
    "            'svc__gamma': ['scale']}"
   ]
  },
  {
   "cell_type": "code",
   "execution_count": 156,
   "metadata": {},
   "outputs": [],
   "source": [
    "# Expanding svc kernel and gamma parameters \n",
    "\n",
    "svc_cv_params_2 = {'cv__stop_words': ['english', None], \n",
    "            'cv__ngram_range': [(1, 1), (1, 2), (1,3)], \n",
    "            'cv__max_features': [1000, 2000, 3000],\n",
    "            'svc__C': [0.01, 0.1, 1, 10], \n",
    "            'svc__kernel': ['linear', 'poly', 'sigmoid'],\n",
    "            'svc__gamma': ['scale', 'auto']}\n",
    "\n",
    "svc_tf_params_2 = {'tf__stop_words': ['english', None], \n",
    "            'tf__ngram_range': [(1, 1), (1, 2), (1, 3)],\n",
    "            'tf__max_features': [1000, 2000, 3000],\n",
    "            'svc__C': [0.01, 0.1, 1, 10], \n",
    "            'svc__kernel': ['linear', 'poly', 'sigmoid'],\n",
    "            'svc__gamma': ['scale', 'auto']}"
   ]
  },
  {
   "cell_type": "code",
   "execution_count": null,
   "metadata": {},
   "outputs": [],
   "source": []
  },
  {
   "cell_type": "code",
   "execution_count": 157,
   "metadata": {},
   "outputs": [],
   "source": [
    "# Instantiate SVC GridSearch object\n",
    "\n",
    "svc_cv_grid = GridSearchCV(pipe_cv_svc, svc_cv_params, cv=3, verbose=1)\n",
    "\n",
    "svc_tf_grid = GridSearchCV(pipe_tf_svc, svc_tf_params, cv=3, verbose=1)"
   ]
  },
  {
   "cell_type": "code",
   "execution_count": 122,
   "metadata": {},
   "outputs": [
    {
     "name": "stdout",
     "output_type": "stream",
     "text": [
      "Fitting 3 folds for each of 72 candidates, totalling 216 fits\n"
     ]
    },
    {
     "name": "stderr",
     "output_type": "stream",
     "text": [
      "[Parallel(n_jobs=1)]: Using backend SequentialBackend with 1 concurrent workers.\n",
      "[Parallel(n_jobs=1)]: Done 216 out of 216 | elapsed:  7.2min finished\n"
     ]
    },
    {
     "data": {
      "text/plain": [
       "GridSearchCV(cv=3, error_score='raise-deprecating',\n",
       "             estimator=Pipeline(memory=None,\n",
       "                                steps=[('cv',\n",
       "                                        CountVectorizer(analyzer='word',\n",
       "                                                        binary=False,\n",
       "                                                        decode_error='strict',\n",
       "                                                        dtype=<class 'numpy.int64'>,\n",
       "                                                        encoding='utf-8',\n",
       "                                                        input='content',\n",
       "                                                        lowercase=True,\n",
       "                                                        max_df=1.0,\n",
       "                                                        max_features=None,\n",
       "                                                        min_df=1,\n",
       "                                                        ngram_range=(1, 1),\n",
       "                                                        preprocessor=None,\n",
       "                                                        stop_words=None,\n",
       "                                                        strip_accents=None,\n",
       "                                                        token...\n",
       "                                            random_state=None, shrinking=True,\n",
       "                                            tol=0.001, verbose=False))],\n",
       "                                verbose=False),\n",
       "             iid='warn', n_jobs=None,\n",
       "             param_grid={'cv__max_features': [1000, 2000, 3000],\n",
       "                         'cv__ngram_range': [(1, 1), (1, 2), (1, 3)],\n",
       "                         'cv__stop_words': ['english', None],\n",
       "                         'svc__C': [0.01, 0.1, 1, 10], 'svc__gamma': ['scale'],\n",
       "                         'svc__kernel': ['rbf']},\n",
       "             pre_dispatch='2*n_jobs', refit=True, return_train_score=False,\n",
       "             scoring=None, verbose=1)"
      ]
     },
     "execution_count": 122,
     "metadata": {},
     "output_type": "execute_result"
    }
   ],
   "source": [
    "# Fit SVC Grid on Submissions Training Data\n",
    "\n",
    "svc_cv_grid.fit(X_train, y_train)"
   ]
  },
  {
   "cell_type": "code",
   "execution_count": 123,
   "metadata": {},
   "outputs": [
    {
     "data": {
      "text/plain": [
       "{'cv__max_features': 3000,\n",
       " 'cv__ngram_range': (1, 2),\n",
       " 'cv__stop_words': 'english',\n",
       " 'svc__C': 10,\n",
       " 'svc__gamma': 'scale',\n",
       " 'svc__kernel': 'rbf'}"
      ]
     },
     "execution_count": 123,
     "metadata": {},
     "output_type": "execute_result"
    }
   ],
   "source": [
    "svc_cv_grid.best_params_"
   ]
  },
  {
   "cell_type": "markdown",
   "metadata": {},
   "source": [
    "Pros and Cons of SVMs\n",
    "Pros\n",
    "Exceptional perfomance (historically widely used)\n",
    "Robust to outliers\n",
    "Effective in high-dimensional data\n",
    "Can work with non-linear boundaries\n",
    "Fast to compute with most datasets (kernel trick)\n",
    "Low risk of overfitting\n",
    "Cons\n",
    "Black box method\n",
    "Can be slow on large datasets"
   ]
  },
  {
   "cell_type": "code",
   "execution_count": 125,
   "metadata": {},
   "outputs": [
    {
     "name": "stdout",
     "output_type": "stream",
     "text": [
      "SVC Grid Best Score: 0.9045261669024045\n",
      "SVC Train Score: 0.9923620933521924\n",
      "SVC Test score: 0.8985999151463725\n"
     ]
    }
   ],
   "source": [
    "print(f'SVC Grid Best Score: {svc_cv_grid.best_score_}')\n",
    "print(f'SVC Train Score: {svc_cv_grid.score(X_train, y_train)}')\n",
    "print(f'SVC Test score: {svc_cv_grid.score(X_test, y_test)}')"
   ]
  },
  {
   "cell_type": "markdown",
   "metadata": {},
   "source": [
    "Using initial simple set of parameters, Support Vector Machine performed roughly identical to Logistic Regression on the Submissions text data. It was even more overfit, however, as its training score was as high as 99%."
   ]
  },
  {
   "cell_type": "code",
   "execution_count": 159,
   "metadata": {},
   "outputs": [],
   "source": [
    "# Run SVC Grid again with Expanded Parameter set on Submissions\n",
    "\n",
    "svc_cv_grid_2 = GridSearchCV(pipe_cv_svc, svc_cv_params_2, cv=3, verbose=1)\n",
    "\n",
    "svc_tf_grid_2 = GridSearchCV(pipe_tf_svc, svc_tf_params_2, cv=3, verbose=1)"
   ]
  },
  {
   "cell_type": "code",
   "execution_count": 160,
   "metadata": {},
   "outputs": [
    {
     "name": "stdout",
     "output_type": "stream",
     "text": [
      "Fitting 3 folds for each of 432 candidates, totalling 1296 fits\n"
     ]
    },
    {
     "name": "stderr",
     "output_type": "stream",
     "text": [
      "[Parallel(n_jobs=1)]: Using backend SequentialBackend with 1 concurrent workers.\n",
      "[Parallel(n_jobs=1)]: Done 1296 out of 1296 | elapsed: 39.9min finished\n"
     ]
    },
    {
     "data": {
      "text/plain": [
       "GridSearchCV(cv=3, error_score='raise-deprecating',\n",
       "             estimator=Pipeline(memory=None,\n",
       "                                steps=[('cv',\n",
       "                                        CountVectorizer(analyzer='word',\n",
       "                                                        binary=False,\n",
       "                                                        decode_error='strict',\n",
       "                                                        dtype=<class 'numpy.int64'>,\n",
       "                                                        encoding='utf-8',\n",
       "                                                        input='content',\n",
       "                                                        lowercase=True,\n",
       "                                                        max_df=1.0,\n",
       "                                                        max_features=None,\n",
       "                                                        min_df=1,\n",
       "                                                        ngram_range=(1, 1),\n",
       "                                                        preprocessor=None,\n",
       "                                                        stop_words=None,\n",
       "                                                        strip_accents=None,\n",
       "                                                        token...\n",
       "                                            tol=0.001, verbose=False))],\n",
       "                                verbose=False),\n",
       "             iid='warn', n_jobs=None,\n",
       "             param_grid={'cv__max_features': [1000, 2000, 3000],\n",
       "                         'cv__ngram_range': [(1, 1), (1, 2), (1, 3)],\n",
       "                         'cv__stop_words': ['english', None],\n",
       "                         'svc__C': [0.01, 0.1, 1, 10],\n",
       "                         'svc__gamma': ['scale', 'auto'],\n",
       "                         'svc__kernel': ['linear', 'poly', 'sigmoid']},\n",
       "             pre_dispatch='2*n_jobs', refit=True, return_train_score=False,\n",
       "             scoring=None, verbose=1)"
      ]
     },
     "execution_count": 160,
     "metadata": {},
     "output_type": "execute_result"
    }
   ],
   "source": [
    "svc_cv_grid_2.fit(X_train, y_train)"
   ]
  },
  {
   "cell_type": "code",
   "execution_count": 161,
   "metadata": {},
   "outputs": [
    {
     "name": "stdout",
     "output_type": "stream",
     "text": [
      "SVC Grid Best Score: 0.9026874115983027\n",
      "SVC Train Score: 0.9357850070721357\n",
      "SVC Test score: 0.9049639372083157\n"
     ]
    }
   ],
   "source": [
    "print(f'SVC Grid Best Score: {svc_cv_grid_2.best_score_}')\n",
    "print(f'SVC Train Score: {svc_cv_grid_2.score(X_train, y_train)}')\n",
    "print(f'SVC Test score: {svc_cv_grid_2.score(X_test, y_test)}')"
   ]
  },
  {
   "cell_type": "code",
   "execution_count": 162,
   "metadata": {},
   "outputs": [
    {
     "data": {
      "text/plain": [
       "{'cv__max_features': 3000,\n",
       " 'cv__ngram_range': (1, 1),\n",
       " 'cv__stop_words': None,\n",
       " 'svc__C': 0.1,\n",
       " 'svc__gamma': 'scale',\n",
       " 'svc__kernel': 'linear'}"
      ]
     },
     "execution_count": 162,
     "metadata": {},
     "output_type": "execute_result"
    }
   ],
   "source": [
    "svc_cv_grid_2.best_params_"
   ]
  },
  {
   "cell_type": "markdown",
   "metadata": {},
   "source": [
    "SVC performed roughly the same in final test accuracy with the expanded parameter set, but was much less overfit.  The training score dropped to within three percentage points of the Test score.  This model should be more generalizable to other unseen data from the two classes that we might be interested in classifying later."
   ]
  },
  {
   "cell_type": "markdown",
   "metadata": {},
   "source": [
    "### Support Vector Machine on Comments"
   ]
  },
  {
   "cell_type": "code",
   "execution_count": 163,
   "metadata": {},
   "outputs": [
    {
     "name": "stdout",
     "output_type": "stream",
     "text": [
      "Fitting 3 folds for each of 72 candidates, totalling 216 fits\n"
     ]
    },
    {
     "name": "stderr",
     "output_type": "stream",
     "text": [
      "[Parallel(n_jobs=1)]: Using backend SequentialBackend with 1 concurrent workers.\n",
      "[Parallel(n_jobs=1)]: Done 216 out of 216 | elapsed: 18.0min finished\n"
     ]
    },
    {
     "data": {
      "text/plain": [
       "GridSearchCV(cv=3, error_score='raise-deprecating',\n",
       "             estimator=Pipeline(memory=None,\n",
       "                                steps=[('cv',\n",
       "                                        CountVectorizer(analyzer='word',\n",
       "                                                        binary=False,\n",
       "                                                        decode_error='strict',\n",
       "                                                        dtype=<class 'numpy.int64'>,\n",
       "                                                        encoding='utf-8',\n",
       "                                                        input='content',\n",
       "                                                        lowercase=True,\n",
       "                                                        max_df=1.0,\n",
       "                                                        max_features=None,\n",
       "                                                        min_df=1,\n",
       "                                                        ngram_range=(1, 1),\n",
       "                                                        preprocessor=None,\n",
       "                                                        stop_words=None,\n",
       "                                                        strip_accents=None,\n",
       "                                                        token...\n",
       "                                            random_state=None, shrinking=True,\n",
       "                                            tol=0.001, verbose=False))],\n",
       "                                verbose=False),\n",
       "             iid='warn', n_jobs=None,\n",
       "             param_grid={'cv__max_features': [1000, 2000, 3000],\n",
       "                         'cv__ngram_range': [(1, 1), (1, 2), (1, 3)],\n",
       "                         'cv__stop_words': ['english', None],\n",
       "                         'svc__C': [0.01, 0.1, 1, 10], 'svc__gamma': ['scale'],\n",
       "                         'svc__kernel': ['rbf']},\n",
       "             pre_dispatch='2*n_jobs', refit=True, return_train_score=False,\n",
       "             scoring=None, verbose=1)"
      ]
     },
     "execution_count": 163,
     "metadata": {},
     "output_type": "execute_result"
    }
   ],
   "source": [
    "# Fit initial SVC grid to Comments training data\n",
    "\n",
    "svc_cv_grid.fit(X2_train, y2_train)"
   ]
  },
  {
   "cell_type": "code",
   "execution_count": 164,
   "metadata": {},
   "outputs": [
    {
     "name": "stdout",
     "output_type": "stream",
     "text": [
      "SVC Comments Grid Best Score: 0.8021638330757341\n",
      "SVC Comments Train Score: 0.8152758132956153\n",
      "SVC Comments Test score: 0.8239287229529062\n"
     ]
    }
   ],
   "source": [
    "print(f'SVC Comments Grid Best Score: {svc_cv_grid.best_score_}')\n",
    "print(f'SVC Comments Train Score: {svc_cv_grid.score(X_train, y_train)}')\n",
    "print(f'SVC Comments Test score: {svc_cv_grid.score(X_test, y_test)}')"
   ]
  },
  {
   "cell_type": "markdown",
   "metadata": {},
   "source": [
    "Support Vector Machine performed roughlythe same as Logistic Regression in final test accuracy score, but the model was surprisingly well fit, even slightly underfit, to the test data.  This model would likely provide a more generalizeable model for any additional classification of future comments data."
   ]
  },
  {
   "cell_type": "markdown",
   "metadata": {},
   "source": [
    "## Random Forest"
   ]
  },
  {
   "cell_type": "code",
   "execution_count": 42,
   "metadata": {},
   "outputs": [],
   "source": [
    "# Repost X and Y Assignments for ease of viewing. \n",
    "# Train random forest on same Submission data \n",
    "# from same two subreddits as above models.\n",
    "\n",
    "X = sdc_fut_sub['lemma']\n",
    "y = sdc_fut_sub['target']\n",
    "\n",
    "X_train, X_test, y_train, y_test = train_test_split(X, y, random_state = 88)"
   ]
  },
  {
   "cell_type": "code",
   "execution_count": 52,
   "metadata": {},
   "outputs": [],
   "source": [
    "# Define Random Forest pipelin and parameter grid\n",
    "\n",
    "rf_pipe_cv = Pipeline([\n",
    "    ('cv', CountVectorizer()),\n",
    "    ('rf', RandomForestClassifier())])\n",
    "\n",
    "rf_cv_params = {'cv__stop_words': ['english', None], \n",
    "            'cv__ngram_range': [(1, 1), (1, 2), (1,3)], \n",
    "            'cv__max_features': [1000, 2000, 3000],\n",
    "            'rf__n_estimators': [100, 200],\n",
    "            'rf__max_depth': [None, 1, 2, 3],}"
   ]
  },
  {
   "cell_type": "code",
   "execution_count": 53,
   "metadata": {},
   "outputs": [],
   "source": [
    "# Instantiate RF grid search object\n",
    "\n",
    "gs_rf = GridSearchCV(rf_pipe_cv, rf_cv_params, cv=3, verbose=1)"
   ]
  },
  {
   "cell_type": "code",
   "execution_count": 54,
   "metadata": {},
   "outputs": [
    {
     "name": "stdout",
     "output_type": "stream",
     "text": [
      "Fitting 3 folds for each of 144 candidates, totalling 432 fits\n"
     ]
    },
    {
     "name": "stderr",
     "output_type": "stream",
     "text": [
      "[Parallel(n_jobs=1)]: Using backend SequentialBackend with 1 concurrent workers.\n",
      "[Parallel(n_jobs=1)]: Done 432 out of 432 | elapsed:  6.6min finished\n"
     ]
    },
    {
     "data": {
      "text/plain": [
       "GridSearchCV(cv=3, error_score='raise-deprecating',\n",
       "             estimator=Pipeline(memory=None,\n",
       "                                steps=[('cv',\n",
       "                                        CountVectorizer(analyzer='word',\n",
       "                                                        binary=False,\n",
       "                                                        decode_error='strict',\n",
       "                                                        dtype=<class 'numpy.int64'>,\n",
       "                                                        encoding='utf-8',\n",
       "                                                        input='content',\n",
       "                                                        lowercase=True,\n",
       "                                                        max_df=1.0,\n",
       "                                                        max_features=None,\n",
       "                                                        min_df=1,\n",
       "                                                        ngram_range=(1, 1),\n",
       "                                                        preprocessor=None,\n",
       "                                                        stop_words=None,\n",
       "                                                        strip_accents=None,\n",
       "                                                        token...\n",
       "                                                               oob_score=False,\n",
       "                                                               random_state=None,\n",
       "                                                               verbose=0,\n",
       "                                                               warm_start=False))],\n",
       "                                verbose=False),\n",
       "             iid='warn', n_jobs=None,\n",
       "             param_grid={'cv__max_features': [1000, 2000, 3000],\n",
       "                         'cv__ngram_range': [(1, 1), (1, 2), (1, 3)],\n",
       "                         'cv__stop_words': ['english', None],\n",
       "                         'rf__max_depth': [None, 1, 2, 3],\n",
       "                         'rf__n_estimators': [100, 200]},\n",
       "             pre_dispatch='2*n_jobs', refit=True, return_train_score=False,\n",
       "             scoring=None, verbose=1)"
      ]
     },
     "execution_count": 54,
     "metadata": {},
     "output_type": "execute_result"
    }
   ],
   "source": [
    "# Fit RG grid to Submission training data\n",
    "\n",
    "gs_rf.fit(X_train, y_train)"
   ]
  },
  {
   "cell_type": "code",
   "execution_count": 55,
   "metadata": {},
   "outputs": [
    {
     "name": "stdout",
     "output_type": "stream",
     "text": [
      "RF Grid Best Score: 0.9042432814710042\n",
      "RF Train Score: 0.9961810466760962\n",
      "RF Test score: 0.8960543063215952\n"
     ]
    }
   ],
   "source": [
    "print(f'RF Grid Best Score: {gs_rf.best_score_}')\n",
    "print(f'RF Train Score: {gs_rf.score(X_train, y_train)}')\n",
    "print(f'RF Test score: {gs_rf.score(X_test, y_test)}')"
   ]
  },
  {
   "cell_type": "code",
   "execution_count": 58,
   "metadata": {},
   "outputs": [
    {
     "data": {
      "text/plain": [
       "{'cv__max_features': 3000,\n",
       " 'cv__ngram_range': (1, 1),\n",
       " 'cv__stop_words': 'english',\n",
       " 'rf__max_depth': None,\n",
       " 'rf__n_estimators': 200}"
      ]
     },
     "execution_count": 58,
     "metadata": {},
     "output_type": "execute_result"
    }
   ],
   "source": [
    "gs_rf.best_params_"
   ]
  },
  {
   "cell_type": "markdown",
   "metadata": {},
   "source": [
    "Random Forest performed roughly the same as Logistic Regression and Support Vector machine on Submission test data with an accuracy score of 90%.  The model was significantly overfit however, similar to the LogReg model and initial SVC Model."
   ]
  },
  {
   "cell_type": "markdown",
   "metadata": {},
   "source": [
    "Comparing the three models, they all performed roughly the same on Submission Data at 90%. However, we saw that Support Vector Machine with 'linear' kernel provided the least overfit of the three models.  We only tested Logistic Regression and Support Vector Machine on Comments data, both of which scored around 83%, but again the Support Vector Machine model was the only model that best fit the entire data, including the test data.  Logistic Regression was overfit."
   ]
  },
  {
   "cell_type": "markdown",
   "metadata": {},
   "source": [
    "## Sentiment Analysis Plots"
   ]
  },
  {
   "cell_type": "code",
   "execution_count": 7,
   "metadata": {},
   "outputs": [],
   "source": [
    "# Filter dataframes for individual Sentiment Analysis plots\n",
    "\n",
    "sdc_sub = srch_sub[srch_sub['subreddit'] == 'selfdrivingcars']\n",
    "fut_sub = srch_sub[srch_sub['subreddit'] == 'futurology']\n",
    "tech_sub= srch_sub[srch_sub['subreddit'] == 'technology']\n",
    "\n",
    "sdc_com = srch_com[srch_com['subreddit'] == 'selfdrivingcars']\n",
    "fut_com = srch_com[srch_com['subreddit'] == 'futurology']\n",
    "tech_com= srch_com[srch_com['subreddit'] == 'technology']"
   ]
  },
  {
   "cell_type": "code",
   "execution_count": 61,
   "metadata": {},
   "outputs": [
    {
     "data": {
      "text/html": [
       "<div>\n",
       "<style scoped>\n",
       "    .dataframe tbody tr th:only-of-type {\n",
       "        vertical-align: middle;\n",
       "    }\n",
       "\n",
       "    .dataframe tbody tr th {\n",
       "        vertical-align: top;\n",
       "    }\n",
       "\n",
       "    .dataframe thead th {\n",
       "        text-align: right;\n",
       "    }\n",
       "</style>\n",
       "<table border=\"1\" class=\"dataframe\">\n",
       "  <thead>\n",
       "    <tr style=\"text-align: right;\">\n",
       "      <th></th>\n",
       "      <th>author</th>\n",
       "      <th>id</th>\n",
       "      <th>title</th>\n",
       "      <th>subreddit</th>\n",
       "      <th>year</th>\n",
       "      <th>tokens</th>\n",
       "      <th>lemma</th>\n",
       "      <th>stems</th>\n",
       "      <th>sent_score</th>\n",
       "    </tr>\n",
       "  </thead>\n",
       "  <tbody>\n",
       "    <tr>\n",
       "      <td>1</td>\n",
       "      <td>Sidewinder77</td>\n",
       "      <td>vn2lo</td>\n",
       "      <td>Sebastian Thrun on Google's Self-Driving Car</td>\n",
       "      <td>selfdrivingcars</td>\n",
       "      <td>2011</td>\n",
       "      <td>['Sebastian', 'Thrun', 'on', 'Google', 's', 'S...</td>\n",
       "      <td>Sebastian Thrun on Google s Self Driving Car</td>\n",
       "      <td>sebastian thrun on googl s self drive car</td>\n",
       "      <td>0.0</td>\n",
       "    </tr>\n",
       "    <tr>\n",
       "      <td>2</td>\n",
       "      <td>Sidewinder77</td>\n",
       "      <td>vn2tg</td>\n",
       "      <td>5 Ways Self-Driving Cars Will Make You Love Co...</td>\n",
       "      <td>selfdrivingcars</td>\n",
       "      <td>2011</td>\n",
       "      <td>['5', 'Ways', 'Self', 'Driving', 'Cars', 'Will...</td>\n",
       "      <td>5 Ways Self Driving Cars Will Make You Love Co...</td>\n",
       "      <td>5 way self drive car will make you love commut</td>\n",
       "      <td>3.0</td>\n",
       "    </tr>\n",
       "    <tr>\n",
       "      <td>3</td>\n",
       "      <td>Sidewinder77</td>\n",
       "      <td>vn2y4</td>\n",
       "      <td>Volvo's self-driving 'convoy' hits the Spanish...</td>\n",
       "      <td>selfdrivingcars</td>\n",
       "      <td>2011</td>\n",
       "      <td>['Volvo', 's', 'self', 'driving', 'convoy', 'h...</td>\n",
       "      <td>Volvo s self driving convoy hit the Spanish mo...</td>\n",
       "      <td>volvo s self drive convoy hit the spanish moto...</td>\n",
       "      <td>0.0</td>\n",
       "    </tr>\n",
       "    <tr>\n",
       "      <td>4</td>\n",
       "      <td>Sidewinder77</td>\n",
       "      <td>vnuw3</td>\n",
       "      <td>Google Self-Driving Car License Approved in Ne...</td>\n",
       "      <td>selfdrivingcars</td>\n",
       "      <td>2011</td>\n",
       "      <td>['Google', 'Self', 'Driving', 'Car', 'License'...</td>\n",
       "      <td>Google Self Driving Car License Approved in Ne...</td>\n",
       "      <td>googl self drive car licens approv in nevada</td>\n",
       "      <td>2.0</td>\n",
       "    </tr>\n",
       "    <tr>\n",
       "      <td>5</td>\n",
       "      <td>Sidewinder77</td>\n",
       "      <td>vq0pl</td>\n",
       "      <td>Could self-driving cars reduce future health c...</td>\n",
       "      <td>selfdrivingcars</td>\n",
       "      <td>2011</td>\n",
       "      <td>['Could', 'self', 'driving', 'cars', 'reduce',...</td>\n",
       "      <td>Could self driving car reduce future health ca...</td>\n",
       "      <td>could self drive car reduc futur health care cost</td>\n",
       "      <td>2.0</td>\n",
       "    </tr>\n",
       "  </tbody>\n",
       "</table>\n",
       "</div>"
      ],
      "text/plain": [
       "         author     id                                              title  \\\n",
       "1  Sidewinder77  vn2lo       Sebastian Thrun on Google's Self-Driving Car   \n",
       "2  Sidewinder77  vn2tg  5 Ways Self-Driving Cars Will Make You Love Co...   \n",
       "3  Sidewinder77  vn2y4  Volvo's self-driving 'convoy' hits the Spanish...   \n",
       "4  Sidewinder77  vnuw3  Google Self-Driving Car License Approved in Ne...   \n",
       "5  Sidewinder77  vq0pl  Could self-driving cars reduce future health c...   \n",
       "\n",
       "         subreddit  year                                             tokens  \\\n",
       "1  selfdrivingcars  2011  ['Sebastian', 'Thrun', 'on', 'Google', 's', 'S...   \n",
       "2  selfdrivingcars  2011  ['5', 'Ways', 'Self', 'Driving', 'Cars', 'Will...   \n",
       "3  selfdrivingcars  2011  ['Volvo', 's', 'self', 'driving', 'convoy', 'h...   \n",
       "4  selfdrivingcars  2011  ['Google', 'Self', 'Driving', 'Car', 'License'...   \n",
       "5  selfdrivingcars  2011  ['Could', 'self', 'driving', 'cars', 'reduce',...   \n",
       "\n",
       "                                               lemma  \\\n",
       "1       Sebastian Thrun on Google s Self Driving Car   \n",
       "2  5 Ways Self Driving Cars Will Make You Love Co...   \n",
       "3  Volvo s self driving convoy hit the Spanish mo...   \n",
       "4  Google Self Driving Car License Approved in Ne...   \n",
       "5  Could self driving car reduce future health ca...   \n",
       "\n",
       "                                               stems  sent_score  \n",
       "1          sebastian thrun on googl s self drive car         0.0  \n",
       "2     5 way self drive car will make you love commut         3.0  \n",
       "3  volvo s self drive convoy hit the spanish moto...         0.0  \n",
       "4       googl self drive car licens approv in nevada         2.0  \n",
       "5  could self drive car reduc futur health care cost         2.0  "
      ]
     },
     "execution_count": 61,
     "metadata": {},
     "output_type": "execute_result"
    }
   ],
   "source": [
    "sdc_sub.head()"
   ]
  },
  {
   "cell_type": "code",
   "execution_count": 8,
   "metadata": {},
   "outputs": [],
   "source": [
    "# Find Mean of each Subreddit Sentiment Score\n",
    "\n",
    "sdc_sub_sent_yr = sdc_sub.groupby('year')['sent_score'].mean()\n",
    "fut_sub_sent_yr = fut_sub.groupby('year')['sent_score'].mean()\n",
    "tech_sub_sent_yr = tech_sub.groupby('year')['sent_score'].mean()\n",
    "\n",
    "sdc_com_sent_yr = sdc_com.groupby('year')['sent_score'].mean()\n",
    "fut_com_sent_yr = fut_com.groupby('year')['sent_score'].mean()\n",
    "tech_com_sent_yr = tech_com.groupby('year')['sent_score'].mean()"
   ]
  },
  {
   "cell_type": "code",
   "execution_count": 63,
   "metadata": {},
   "outputs": [
    {
     "data": {
      "text/plain": [
       "year\n",
       "2008   -7.750000\n",
       "2009    0.142857\n",
       "2010    0.846154\n",
       "2011    0.305344\n",
       "2013    0.480000\n",
       "2014    1.474950\n",
       "2015    0.348089\n",
       "2016    0.552419\n",
       "2017   -0.502000\n",
       "2018   -3.818000\n",
       "2019    0.629779\n",
       "Name: sent_score, dtype: float64"
      ]
     },
     "execution_count": 63,
     "metadata": {},
     "output_type": "execute_result"
    }
   ],
   "source": [
    "tech_com_sent_yr "
   ]
  },
  {
   "cell_type": "code",
   "execution_count": 9,
   "metadata": {},
   "outputs": [
    {
     "data": {
      "image/png": "[encoded data removed]",
      "text/plain": [
       "<Figure size 648x504 with 1 Axes>"
      ]
     },
     "metadata": {
      "needs_background": "light"
     },
     "output_type": "display_data"
    }
   ],
   "source": [
    "# Plot Sentiment Analysis for r/selfdrivingcars Submissions/posts\n",
    "\n",
    "plt.figure(figsize = (9, 7))\n",
    "plt.bar(sdc_sub_sent_yr.index, sdc_sub_sent_yr);\n",
    "\n",
    "plt.title('Sentiment Analysis for Posts \\n in r/Selfdrivingcars', size= 16)\n",
    "plt.xticks((2011, 2012, 2013, 2014, 2015, 2016, 2017, 2018, 2019))\n",
    "plt.ylabel('Mean Sentiment', size = 14 )\n",
    "plt.savefig('plots/sent_sdc_subs.png')"
   ]
  },
  {
   "cell_type": "code",
   "execution_count": 10,
   "metadata": {},
   "outputs": [
    {
     "data": {
      "image/png": "[encoded data removed]",
      "text/plain": [
       "<Figure size 648x504 with 1 Axes>"
      ]
     },
     "metadata": {
      "needs_background": "light"
     },
     "output_type": "display_data"
    }
   ],
   "source": [
    "# Plot Sentiment Analysis for r/Selfdrivingcars Comments\n",
    "\n",
    "plt.figure(figsize = (9, 7))\n",
    "plt.bar(sdc_com_sent_yr.index, sdc_com_sent_yr);\n",
    "\n",
    "plt.title('Sentiment Analysis for Comments \\n in r/Selfdrivingcars', size= 16)\n",
    "plt.xticks((2011, 2012, 2013, 2014, 2015, 2016, 2017, 2018, 2019))\n",
    "plt.ylabel('Mean Sentiment', size = 14 )\n",
    "plt.savefig('plots/sent_sdc_coms.png')"
   ]
  },
  {
   "cell_type": "markdown",
   "metadata": {},
   "source": [
    "We see generally positive sentiment for all years of the subreddits existence, as is to be expected for this subreddit, with the exception of 2018.  With such a sharp drop in this year, I would assume there is either a data corruption, or that some news event affected reddit users during this particular year. "
   ]
  },
  {
   "cell_type": "code",
   "execution_count": 11,
   "metadata": {},
   "outputs": [
    {
     "data": {
      "image/png": "[encoded data removed]",
      "text/plain": [
       "<Figure size 648x504 with 1 Axes>"
      ]
     },
     "metadata": {
      "needs_background": "light"
     },
     "output_type": "display_data"
    }
   ],
   "source": [
    "# Plot Sentiment Analysis for r/Technology Posts\n",
    "\n",
    "plt.figure(figsize = (9, 7))\n",
    "plt.bar(tech_sub_sent_yr.index, tech_sub_sent_yr);\n",
    "\n",
    "plt.title('Sentiment Analysis for Posts \\n in r/Technology', size= 16)\n",
    "plt.xticks((2008, 2009, 2010, 2011, 2012, 2013, 2014, 2015, 2016, 2017, 2018, 2019))\n",
    "plt.ylabel('Mean Sentiment', size = 14 )\n",
    "plt.savefig('plots/sent_tech_subs.png')"
   ]
  },
  {
   "cell_type": "code",
   "execution_count": 14,
   "metadata": {},
   "outputs": [
    {
     "data": {
      "image/png": "[encoded data removed]",
      "text/plain": [
       "<Figure size 648x504 with 1 Axes>"
      ]
     },
     "metadata": {
      "needs_background": "light"
     },
     "output_type": "display_data"
    }
   ],
   "source": [
    "# Plot Sentiment Analysis for r/Technology Comments\n",
    "\n",
    "plt.figure(figsize = (9, 7))\n",
    "plt.bar(tech_com_sent_yr.index, tech_com_sent_yr);\n",
    "\n",
    "plt.title('Sentiment Analysis for Comments \\n in r/Technology', size= 16)\n",
    "plt.xticks((2008, 2009, 2010, 2011, 2012, 2013, 2014, 2015, 2016, 2017, 2018, 2019))\n",
    "plt.ylabel('Mean Sentiment', size = 14 )\n",
    "plt.savefig('plots/sent_tech_coms.png')"
   ]
  },
  {
   "cell_type": "markdown",
   "metadata": {},
   "source": [
    "Technology has noticeably lower sentiment throughout all years, with a strange phenomena in 2008 where Submission sentiment was high but comments were extremeley low. This could be a result of an extremely controversial topic in that year, or due to the sentiment analyzer misreading the Submission text data.  Again we see 2018 with a sharp drop similar to r/selfdrivingcars."
   ]
  },
  {
   "cell_type": "code",
   "execution_count": 12,
   "metadata": {},
   "outputs": [
    {
     "data": {
      "image/png": "[encoded data removed]",
      "text/plain": [
       "<Figure size 648x504 with 1 Axes>"
      ]
     },
     "metadata": {
      "needs_background": "light"
     },
     "output_type": "display_data"
    }
   ],
   "source": [
    "# Plot Sentiment Analysis for r/Futurology Posts\n",
    "\n",
    "plt.figure(figsize = (9, 7))\n",
    "plt.bar(fut_sub_sent_yr.index, fut_sub_sent_yr);\n",
    "\n",
    "plt.title('Sentiment Analysis for Posts \\n in r/Futurology', size= 16)\n",
    "plt.xticks((2011, 2012, 2013, 2014, 2015, 2016, 2017, 2018, 2019))\n",
    "plt.ylabel('Mean Sentiment', size = 14 )\n",
    "plt.savefig('plots/sent_fut_subs.png')"
   ]
  },
  {
   "cell_type": "code",
   "execution_count": 13,
   "metadata": {},
   "outputs": [
    {
     "data": {
      "image/png": "[encoded data removed]",
      "text/plain": [
       "<Figure size 648x504 with 1 Axes>"
      ]
     },
     "metadata": {
      "needs_background": "light"
     },
     "output_type": "display_data"
    }
   ],
   "source": [
    "# Plot Sentiment Analysis for r/Futurology Comments\n",
    "\n",
    "plt.figure(figsize = (9, 7))\n",
    "plt.bar(fut_com_sent_yr.index, fut_com_sent_yr);\n",
    "\n",
    "plt.title('Sentiment Analysis for Comments \\n in r/Futurology', size= 16)\n",
    "plt.xticks((2011, 2012, 2013, 2014, 2015, 2016, 2017, 2018, 2019))\n",
    "plt.ylabel('Mean Sentiment', size = 14 )\n",
    "plt.savefig('plots/sent_fut_coms.png')"
   ]
  },
  {
   "cell_type": "markdown",
   "metadata": {},
   "source": [
    "Futurology shows much higher sentiment than technology across all years of existence.  It was on a steady decline from 2011 to 2016, but has beeen on an upwards trend for most of the past three years, with the 2018 drop being an anomaly.  "
   ]
  },
  {
   "cell_type": "markdown",
   "metadata": {},
   "source": [
    "### Summary Plot of Logistic Regression Accuracy Submission vs Comments"
   ]
  },
  {
   "cell_type": "code",
   "execution_count": 171,
   "metadata": {},
   "outputs": [],
   "source": [
    "#algos = ['LogReg_cv', 'SVC', 'RF']\n",
    "#accuracies = [0.891, 0.896, 0.899]"
   ]
  },
  {
   "cell_type": "code",
   "execution_count": 173,
   "metadata": {},
   "outputs": [],
   "source": [
    "algo2 = ['LogReg Posts', 'LogReg Comments']\n",
    "accs_2 = [0.891, 0.826]"
   ]
  },
  {
   "cell_type": "code",
   "execution_count": 175,
   "metadata": {},
   "outputs": [
    {
     "data": {
      "image/png": "[encoded data removed]",
      "text/plain": [
       "<Figure size 504x288 with 1 Axes>"
      ]
     },
     "metadata": {
      "needs_background": "light"
     },
     "output_type": "display_data"
    }
   ],
   "source": [
    "plt.figure(figsize = (7,4))\n",
    "plt.bar(x=algo2, height=accs_2, width= 0.4);\n",
    "plt.title('Logistic Regression Accuracy \\n of Posts vs Comments for r/Selfdrivingcars', size = 16)\n",
    "plt.ylabel('Classification Accuracy', size=12)\n",
    "plt.savefig('plots/posts_v_coms.png')"
   ]
  },
  {
   "cell_type": "markdown",
   "metadata": {},
   "source": [
    "## Summary and Conclusions"
   ]
  },
  {
   "cell_type": "markdown",
   "metadata": {},
   "source": [
    "Considering Futurology vs Technology sentiment trends overtime, Futurology would provide a best alternative subreddit for Tesla to target with marketing advertisements.  The control subreddit group, r/selfdrivingcars, would also provide a good customer base to target, as we saw with high sentiment across the entire life of the group, but it only has 55k members.  Futurology has 14.2 million members, providing 18 times more potential customers to target.\n",
    "\n",
    "Comparing the three models, they all performed roughly the same on Submission Data at 90%. However, we saw that Support Vector Machine with 'linear' kernel provided the least overfit of the three models.  We only tested Logistic Regression and Support Vector Machine on Comments data, both of which scored around 83%, but again the Support Vector Machine model was the only model that best fit the entire data, including the test data.  Logistic Regression was overfit.\n"
   ]
  }
 ],
 "metadata": {
  "kernelspec": {
   "display_name": "Python 3",
   "language": "python",
   "name": "python3"
  },
  "language_info": {
   "codemirror_mode": {
    "name": "ipython",
    "version": 3
   },
   "file_extension": ".py",
   "mimetype": "text/x-python",
   "name": "python",
   "nbconvert_exporter": "python",
   "pygments_lexer": "ipython3",
   "version": "3.7.4"
  }
 },
 "nbformat": 4,
 "nbformat_minor": 2
}
